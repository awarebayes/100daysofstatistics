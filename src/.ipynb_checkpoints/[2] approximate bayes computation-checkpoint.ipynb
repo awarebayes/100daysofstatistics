{
 "cells": [
  {
   "cell_type": "markdown",
   "metadata": {},
   "source": [
    "# Approximate Bayes Computation\n",
    "Thanks: [this video](https://www.youtube.com/watch?v=3OJEae7Qb_o). I am trying to briefly explain the content of it. If you do not get my explanation, you need to watch it. But there is no need to if everything among of what I say below is clear.\n",
    "\n",
    "### Reasoning\n",
    "Let's say, you did a survey and got some probability. As the video says, you did a salmon selling survey and found out that 6/16 people subscribed to the weekly salmon shipment. That probability will work out for you just fine if you are a frequentist statistician. Just plague the value into your model and that should do the deal. But we, as the worshippers of Lord Bayes, will not go that way. Let's generate a dataset using this tool for our calculations.\n",
    "\n",
    "But why don't we just use the probability as it is? Because sometimes we need to consider multiple probabilities being possible and how they are going to affect our predictions. 6 / 16 doesn't tell you much. This result can be produced by any probability, let's assume it being equal to 0.1 and it just so happened that 6 / 16 of our clients bought our product. Definitely, you can get more precise probability by asking more and more possible clients but it is not always the case. What you might want instead is to consider to have multiple probabilities of `probabilities of customer's choice` and see how many of this probabilities are giving the result you have.\n",
    "\n",
    "### Simple example\n",
    "Let's say you have the `probability of customer's choice` being randomly picked and equal to 0.32. The data is the same, as you might still remember, it is equal to 6/16. And now, let's compel our virtual customer to choose 16 times. If he answered `yes` 6 times and 10 `no`s, we add this probability to some specific array that is storing the probabilities that are producing results close to ours. And we do so (say) 10000 times. What have we got at the and? We'll have an array of probabilities that produced our result.\n",
    "\n",
    "Fun fact: this array will be a normal distribution with the **maximum likelihood** (treat it as 'the peak at') `ground truth probability of client's choice` because there will be more probabilities close to it. (I know, it is not so clear as for now)\n",
    "\n",
    "### How it works\n",
    "First, we need to know what Approximate Bayes Computation consists of:\n",
    "- Data\n",
    "- A generative model\n",
    "- Priors\n",
    "\n",
    "We already have the data (being the probability we calculated, in our case)\n",
    "\n",
    "**Generative model** is going to create our new dataset based on the probability. Virtual customer deciding whether to subscribe.\n",
    "\n",
    "**Priors** is the thing that is going to tell our model how to generate our data.\n",
    "The array of random probabilities (`probability of customer's choice`) we are to feeding our model.\n",
    "\n",
    "**Posteriors** is the new 'dataset' of probabilities we generated.\n",
    "\n",
    "Let's define our priors. We want the chances to be truly random so we are going to use a uniform distribution that is going provide us a set of some random values we will feed to our model. In other words, we are going to considered all probabilities equally likely to be chosen."
   ]
  },
  {
   "cell_type": "code",
   "execution_count": 8,
   "metadata": {},
   "outputs": [],
   "source": [
    "import pandas as pd\n",
    "import numpy as np\n",
    "%matplotlib inline"
   ]
  },
  {
   "cell_type": "code",
   "execution_count": 9,
   "metadata": {},
   "outputs": [
    {
     "data": {
      "text/plain": [
       "<matplotlib.axes._subplots.AxesSubplot at 0x7f07f8dc5518>"
      ]
     },
     "execution_count": 9,
     "metadata": {},
     "output_type": "execute_result"
    },
    {
     "data": {
      "image/png": "[encoded data removed]",
      "text/plain": [
       "<Figure size 432x288 with 1 Axes>"
      ]
     },
     "metadata": {},
     "output_type": "display_data"
    }
   ],
   "source": [
    "n_draws = 100000\n",
    "\n",
    "prior = pd.Series(np.random.uniform(0, 1, size=n_draws))\n",
    "prior.hist()"
   ]
  },
  {
   "cell_type": "markdown",
   "metadata": {},
   "source": [
    "**np.random.binomial** is our virtual virtual customer. It returns a value of `yes` chosen.\n",
    "\n",
    "16 is a value if chooses from, p is the probability"
   ]
  },
  {
   "cell_type": "code",
   "execution_count": 10,
   "metadata": {},
   "outputs": [],
   "source": [
    "def generative_model(p):\n",
    "    return np.random.binomial(16, p)"
   ]
  },
  {
   "cell_type": "markdown",
   "metadata": {},
   "source": [
    "Now lets make our customer guess 100000 times with equal chances to use any probability"
   ]
  },
  {
   "cell_type": "code",
   "execution_count": 11,
   "metadata": {},
   "outputs": [],
   "source": [
    "sim_data = [generative_model(p) for p in prior]"
   ]
  },
  {
   "cell_type": "markdown",
   "metadata": {},
   "source": [
    "We need to select only those probabilities from posterior that generated us 6 (the value we got in the survey, out of 16 customer choices)"
   ]
  },
  {
   "cell_type": "code",
   "execution_count": 12,
   "metadata": {},
   "outputs": [],
   "source": [
    "posterior = prior[list(map(lambda x: x == 6, sim_data))]"
   ]
  },
  {
   "cell_type": "markdown",
   "metadata": {},
   "source": [
    "Let's see how it looks like:"
   ]
  },
  {
   "cell_type": "code",
   "execution_count": 13,
   "metadata": {},
   "outputs": [
    {
     "data": {
      "text/plain": [
       "<matplotlib.axes._subplots.AxesSubplot at 0x7f07f8dedcc0>"
      ]
     },
     "execution_count": 13,
     "metadata": {},
     "output_type": "execute_result"
    },
    {
     "data": {
      "image/png": "[encoded data removed]",
      "text/plain": [
       "<Figure size 432x288 with 1 Axes>"
      ]
     },
     "metadata": {},
     "output_type": "display_data"
    }
   ],
   "source": [
    "posterior.hist()"
   ]
  },
  {
   "cell_type": "markdown",
   "metadata": {},
   "source": [
    "Nice normal distribution, as I said. And the 'pinaccle' is roughly the ground truth `customer's choice probability`"
   ]
  },
  {
   "cell_type": "markdown",
   "metadata": {},
   "source": [
    "# Day 3\n",
    "\n",
    "But how do we find it? We are going to be using **maximum likelihood estimation** or MLE for short for that purpose\n",
    "I will introduce a quick example of using this techique, but you need to know that it is not what Approximate Bayes Computation needs to be used for. Just a cool tool for finding 'the peak'"
   ]
  },
  {
   "cell_type": "code",
   "execution_count": null,
   "metadata": {},
   "outputs": [],
   "source": []
  },
  {
   "cell_type": "code",
   "execution_count": null,
   "metadata": {},
   "outputs": [],
   "source": []
  },
  {
   "cell_type": "code",
   "execution_count": null,
   "metadata": {},
   "outputs": [],
   "source": []
  }
 ],
 "metadata": {
  "kernelspec": {
   "display_name": "Python 3",
   "language": "python",
   "name": "python3"
  },
  "language_info": {
   "codemirror_mode": {
    "name": "ipython",
    "version": 3
   },
   "file_extension": ".py",
   "mimetype": "text/x-python",
   "name": "python",
   "nbconvert_exporter": "python",
   "pygments_lexer": "ipython3",
   "version": "3.6.5"
  }
 },
 "nbformat": 4,
 "nbformat_minor": 2
}
