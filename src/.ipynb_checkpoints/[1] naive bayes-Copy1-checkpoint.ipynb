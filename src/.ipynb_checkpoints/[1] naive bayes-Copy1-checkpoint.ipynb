{
 "cells": [
  {
   "cell_type": "markdown",
   "metadata": {},
   "source": [
    "# Naive Bayes\n",
    "**Naive Bayes** is one of the most powerful tools statistics has for feature-based prediction, so let's code our own!\n",
    "\n",
    "First, you should be familiar with the [Bayes Theorem](https://en.wikipedia.org/wiki/Bayes%27_theorem)\n",
    "\n",
    "I personally think [this explanation](https://betterexplained.com/articles/an-intuitive-and-short-explanation-of-bayes-theorem/) is better \n",
    "\n",
    "Now it's time to watch some cool youtube videos explaining [what Naive Bayes is](https://www.youtube.com/watch?v=CPqOCI0ahss)\n",
    "\n",
    "Go ahead and  watch it a couple of times because it is kind of important\n",
    "\n",
    "The problem with the author's approach is that it only works with categorized data, say the day was **hot**. But what should we do if we know that the temperature was (say) **24c** and the humidity was **40%**? Let's find out by building our own Bayes classifier that will work with numerical data\n",
    "\n",
    "We need to load the dataset we are going to work with and see how it looks like\n",
    "\n",
    "**sample** means the data rows will be shuffled\n",
    "\n",
    "**reset_index** means there will be no column indicating which position the row used to be at (change to false if you are curious)"
   ]
  },
  {
   "cell_type": "code",
   "execution_count": 320,
   "metadata": {},
   "outputs": [
    {
     "data": {
      "text/html": [
       "<div>\n",
       "<style scoped>\n",
       "    .dataframe tbody tr th:only-of-type {\n",
       "        vertical-align: middle;\n",
       "    }\n",
       "\n",
       "    .dataframe tbody tr th {\n",
       "        vertical-align: top;\n",
       "    }\n",
       "\n",
       "    .dataframe thead th {\n",
       "        text-align: right;\n",
       "    }\n",
       "</style>\n",
       "<table border=\"1\" class=\"dataframe\">\n",
       "  <thead>\n",
       "    <tr style=\"text-align: right;\">\n",
       "      <th></th>\n",
       "      <th>Id</th>\n",
       "      <th>SepalLengthCm</th>\n",
       "      <th>SepalWidthCm</th>\n",
       "      <th>PetalLengthCm</th>\n",
       "      <th>PetalWidthCm</th>\n",
       "      <th>Species</th>\n",
       "    </tr>\n",
       "  </thead>\n",
       "  <tbody>\n",
       "    <tr>\n",
       "      <th>0</th>\n",
       "      <td>140</td>\n",
       "      <td>6.9</td>\n",
       "      <td>3.1</td>\n",
       "      <td>5.4</td>\n",
       "      <td>2.1</td>\n",
       "      <td>Iris-virginica</td>\n",
       "    </tr>\n",
       "    <tr>\n",
       "      <th>1</th>\n",
       "      <td>8</td>\n",
       "      <td>5.0</td>\n",
       "      <td>3.4</td>\n",
       "      <td>1.5</td>\n",
       "      <td>0.2</td>\n",
       "      <td>Iris-setosa</td>\n",
       "    </tr>\n",
       "    <tr>\n",
       "      <th>2</th>\n",
       "      <td>4</td>\n",
       "      <td>4.6</td>\n",
       "      <td>3.1</td>\n",
       "      <td>1.5</td>\n",
       "      <td>0.2</td>\n",
       "      <td>Iris-setosa</td>\n",
       "    </tr>\n",
       "    <tr>\n",
       "      <th>3</th>\n",
       "      <td>23</td>\n",
       "      <td>4.6</td>\n",
       "      <td>3.6</td>\n",
       "      <td>1.0</td>\n",
       "      <td>0.2</td>\n",
       "      <td>Iris-setosa</td>\n",
       "    </tr>\n",
       "    <tr>\n",
       "      <th>4</th>\n",
       "      <td>50</td>\n",
       "      <td>5.0</td>\n",
       "      <td>3.3</td>\n",
       "      <td>1.4</td>\n",
       "      <td>0.2</td>\n",
       "      <td>Iris-setosa</td>\n",
       "    </tr>\n",
       "  </tbody>\n",
       "</table>\n",
       "</div>"
      ],
      "text/plain": [
       "    Id  SepalLengthCm  SepalWidthCm  PetalLengthCm  PetalWidthCm  \\\n",
       "0  140            6.9           3.1            5.4           2.1   \n",
       "1    8            5.0           3.4            1.5           0.2   \n",
       "2    4            4.6           3.1            1.5           0.2   \n",
       "3   23            4.6           3.6            1.0           0.2   \n",
       "4   50            5.0           3.3            1.4           0.2   \n",
       "\n",
       "          Species  \n",
       "0  Iris-virginica  \n",
       "1     Iris-setosa  \n",
       "2     Iris-setosa  \n",
       "3     Iris-setosa  \n",
       "4     Iris-setosa  "
      ]
     },
     "execution_count": 320,
     "metadata": {},
     "output_type": "execute_result"
    }
   ],
   "source": [
    "import pandas\n",
    "data = pandas.read_csv(\"../data/Iris.csv\").sample(frac=1).reset_index(drop=True)\n",
    "data.head()"
   ]
  },
  {
   "cell_type": "markdown",
   "metadata": {},
   "source": [
    "Let's make our data look cool and split it into the x (features) and y (answers)\n",
    "\n",
    "It worth mentioning that I am using label encoder for species (just maps the name to a number):\n",
    "\n",
    "|       Raw      | Label-encoded |\n",
    "|:--------------:|---------------|\n",
    "| Iris-setosa    |       0       |\n",
    "| Iris-virginica |       1       |\n",
    "| Iris-virginica |       1       |\n",
    "| Iris-versicolor|       2       |\n",
    "\n",
    "\n",
    "**Note: if the key error is thrown, the ID field is already deleted. Execute the first block again**"
   ]
  },
  {
   "cell_type": "code",
   "execution_count": 321,
   "metadata": {},
   "outputs": [],
   "source": [
    "from sklearn import preprocessing\n",
    "le = preprocessing.LabelEncoder()\n",
    "\n",
    "del data[\"Id\"] # Id is not a feature\n",
    "\n",
    "y = data[\"Species\"]\n",
    "x = data.copy()\n",
    "y = le.fit_transform(y)\n",
    "del x[\"Species\"]\n",
    "\n",
    "x_train = x[:120]\n",
    "x_test = x[120:]\n",
    "y_train = y[:120]\n",
    "y_test = y[120:]"
   ]
  },
  {
   "cell_type": "code",
   "execution_count": 322,
   "metadata": {
    "scrolled": true
   },
   "outputs": [
    {
     "data": {
      "text/html": [
       "<div>\n",
       "<style scoped>\n",
       "    .dataframe tbody tr th:only-of-type {\n",
       "        vertical-align: middle;\n",
       "    }\n",
       "\n",
       "    .dataframe tbody tr th {\n",
       "        vertical-align: top;\n",
       "    }\n",
       "\n",
       "    .dataframe thead th {\n",
       "        text-align: right;\n",
       "    }\n",
       "</style>\n",
       "<table border=\"1\" class=\"dataframe\">\n",
       "  <thead>\n",
       "    <tr style=\"text-align: right;\">\n",
       "      <th></th>\n",
       "      <th>SepalLengthCm</th>\n",
       "      <th>SepalWidthCm</th>\n",
       "      <th>PetalLengthCm</th>\n",
       "      <th>PetalWidthCm</th>\n",
       "    </tr>\n",
       "  </thead>\n",
       "  <tbody>\n",
       "    <tr>\n",
       "      <th>0</th>\n",
       "      <td>6.9</td>\n",
       "      <td>3.1</td>\n",
       "      <td>5.4</td>\n",
       "      <td>2.1</td>\n",
       "    </tr>\n",
       "    <tr>\n",
       "      <th>1</th>\n",
       "      <td>5.0</td>\n",
       "      <td>3.4</td>\n",
       "      <td>1.5</td>\n",
       "      <td>0.2</td>\n",
       "    </tr>\n",
       "    <tr>\n",
       "      <th>2</th>\n",
       "      <td>4.6</td>\n",
       "      <td>3.1</td>\n",
       "      <td>1.5</td>\n",
       "      <td>0.2</td>\n",
       "    </tr>\n",
       "    <tr>\n",
       "      <th>3</th>\n",
       "      <td>4.6</td>\n",
       "      <td>3.6</td>\n",
       "      <td>1.0</td>\n",
       "      <td>0.2</td>\n",
       "    </tr>\n",
       "    <tr>\n",
       "      <th>4</th>\n",
       "      <td>5.0</td>\n",
       "      <td>3.3</td>\n",
       "      <td>1.4</td>\n",
       "      <td>0.2</td>\n",
       "    </tr>\n",
       "  </tbody>\n",
       "</table>\n",
       "</div>"
      ],
      "text/plain": [
       "   SepalLengthCm  SepalWidthCm  PetalLengthCm  PetalWidthCm\n",
       "0            6.9           3.1            5.4           2.1\n",
       "1            5.0           3.4            1.5           0.2\n",
       "2            4.6           3.1            1.5           0.2\n",
       "3            4.6           3.6            1.0           0.2\n",
       "4            5.0           3.3            1.4           0.2"
      ]
     },
     "execution_count": 322,
     "metadata": {},
     "output_type": "execute_result"
    }
   ],
   "source": [
    "x_train.head()"
   ]
  },
  {
   "cell_type": "code",
   "execution_count": 323,
   "metadata": {},
   "outputs": [
    {
     "data": {
      "text/plain": [
       "array([2, 0, 0, 0, 0])"
      ]
     },
     "execution_count": 323,
     "metadata": {},
     "output_type": "execute_result"
    }
   ],
   "source": [
    "y_train[:5]"
   ]
  },
  {
   "cell_type": "markdown",
   "metadata": {},
   "source": [
    "Now it's time to calculate **Individual Probabilities**. In order to do so, we need to know some statistics.\n",
    "\n",
    "Let's look at how the author of the video does it:\n",
    "\n",
    "He has P(sunny|yes) = 2/9, P(sunny|no) = 3/5. He counted it based on the class counts\n",
    "\n",
    "What we want to do is to generalize P(feature|class). And how do we calculate it?\n",
    "\n",
    "Let's assume we have a dataset of people heights. We have two categories: males and females.\n",
    "\n",
    "<img src=\"../res/sexism.png\" alt=\"Drawing\" style=\"width: 350px;\"/>\n",
    "\n",
    "What are the odds that a male will have a height equal to 168cm?\n",
    "\n",
    "Quick note: P(a|x) reads: the probability of a given x is ... \n",
    "\n",
    "So, what is the probability of the person's height being 168cm given that he is a male?.\n",
    "\n",
    "$P(h=168|g=male)$ is a probability of picking a height equal to 168 from male heights  \n",
    "\n",
    "Easy enough, eh?\n",
    "\n",
    "But wait? What does 'a probability of picking' mean? We have a dataset of some values that is definitely not a [PDF](https://en.wikipedia.org/wiki/Probability_density_function). How do I measure the probability of picking something from a dataset? \n",
    "\n",
    "This is what [z-scores](http://www.statisticshowto.com/probability-and-statistics/z-score/) are used for.\n",
    "\n",
    "Alright, do we need just to measure the probability using the z score table? Nope. You might be thinking about probability as likelihood but it is not. The probability of picking a height of 168.00000... cm is 0. We also need to know that we always have an observational error. Let's assume it is equal to 0.5 cm. Thus we calculate the probability of picking a height of 168 +- 0.5cm. For more info about likelihood vs probability, I recommend you to check out [this video](https://www.youtube.com/watch?v=pYxNSUDSFH4)\n",
    "\n",
    "Now that we know how to calculate $P(feature|class)$, we need calculate our probabilities"
   ]
  },
  {
   "cell_type": "code",
   "execution_count": 324,
   "metadata": {},
   "outputs": [],
   "source": [
    "from math import sqrt, erf, erfc\n",
    "import numpy as np\n",
    "from scipy.special import erfinv, erfcinv\n",
    "\n",
    "\n",
    "class ZTable: \n",
    "    # Treat as a black box. Just z table implementation\n",
    "    # thanks gist.github.com/jarhill0/af251879e57a917a6e2cf8ca27548bbb\n",
    "    def __init__(self, precision=4):\n",
    "        self.precision = precision\n",
    "\n",
    "    def below(self, z_score):\n",
    "        return round(0.5 + 0.5 * erf(z_score / sqrt(2)), self.precision)\n",
    "\n",
    "    def above(self, z_score):\n",
    "        return round(0.5 * erfc(z_score / sqrt(2)), self.precision)\n",
    "\n",
    "zTable = ZTable()\n",
    "\n",
    "def zScore(data, value):\n",
    "    return (value - np.mean(data)) / np.std(data)\n",
    "\n",
    "\n",
    "# we need treshold because the probability is able to be 0 since that it might not be included in the dataset\n",
    "def probabilityOfPicking(data, value, error, threshold=0.0001):\n",
    "    p = 1 - zTable.above(zScore(data, value + error)) - zTable.below(zScore(data, value - error))\n",
    "    if(p < threshold):\n",
    "        return threshold\n",
    "    return p"
   ]
  },
  {
   "cell_type": "markdown",
   "metadata": {},
   "source": [
    "### Lets look on the probability of picking some SepalLengthCm of (say) 0'st specie."
   ]
  },
  {
   "cell_type": "code",
   "execution_count": 325,
   "metadata": {},
   "outputs": [
    {
     "data": {
      "image/png": "[encoded data removed]",
      "text/plain": [
       "<Figure size 432x288 with 1 Axes>"
      ]
     },
     "metadata": {},
     "output_type": "display_data"
    }
   ],
   "source": [
    "import matplotlib.pyplot as plt\n",
    "%matplotlib inline\n",
    "\n",
    "SL0 = []\n",
    "for i in range(size):\n",
    "    if y_train[i] == 0:\n",
    "       SL0.append(x_train['SepalLengthCm'][i]) \n",
    "SL0 = np.array(SL0)\n",
    "\n",
    "ls = np.linspace(SL0.min(), SL0.max(), 20)\n",
    "probabilities = [probabilityOfPicking(SL0, i, 0.1) for i in ls]\n",
    "plt.plot(ls, probabilities)\n",
    "plt.show()"
   ]
  },
  {
   "cell_type": "markdown",
   "metadata": {},
   "source": [
    "### See that bell looking curve? looks fantastic!\n",
    "Now lets build  the classifier"
   ]
  },
  {
   "cell_type": "code",
   "execution_count": 326,
   "metadata": {},
   "outputs": [],
   "source": [
    "# Might be useful for calculating product P(feature|class) * p(class) \n",
    "from functools import reduce\n",
    "import operator\n",
    "\n",
    "class BayesClassifier:\n",
    "    \n",
    "    def __init__(self):\n",
    "        self.x_train = []\n",
    "        self.y_train = []\n",
    "    \n",
    "    def fit(self, x_train, y_train):\n",
    "        self.x_train = x_train\n",
    "        self.y_train = y_train\n",
    "        \n",
    "    def predict(self, features, error=0.1): # takes a single array of features, not x_test itself\n",
    "        # pandas df -> list\n",
    "        \n",
    "        features = features.to_dict()\n",
    "        features = [list(features[i].values())[0] for i in features]\n",
    "        \n",
    "        size = y_train.size\n",
    "        classes = set(y_train.tolist()) # 0, 1, 2\n",
    "        class_probs = dict([(i, self.y_train.tolist().count(i) / size) for i in classes]) # [P(class)]\n",
    "        feature_class_probs = dict([(cls, []) for cls in classes]) # {class: [P(feature|class)]}. Example {male: [P(h=181|g=male), P(w=94|g=male)], female: [P(h=181|g=female), P(w=94|g=female)]}\n",
    "        prob_products = dict([(cls, []) for cls in classes]) # {class: P(feature|class) * P(class)}\n",
    "        \n",
    "        for i in range(len(features)):\n",
    "            col = x_train.columns[i]\n",
    "            counts = dict([(cls, []) for cls in classes])\n",
    "            for row in range(size):\n",
    "                counts[y_train[row]].append(x_train[col][row])\n",
    "            for k in counts.keys():\n",
    "                feature_class_probs[k].append(probabilityOfPicking(counts[k], features[i], error))\n",
    "        \n",
    "        for k in counts.keys():\n",
    "            prob_products[k] = reduce(operator.mul, feature_class_probs[k], 1) * class_probs[k]\n",
    "        \n",
    "        prob_products = list(prob_products.values())\n",
    "        return prob_products.index(max(prob_products))"
   ]
  },
  {
   "cell_type": "code",
   "execution_count": 327,
   "metadata": {},
   "outputs": [
    {
     "data": {
      "text/plain": [
       "1"
      ]
     },
     "execution_count": 327,
     "metadata": {},
     "output_type": "execute_result"
    }
   ],
   "source": [
    "bc = BayesClassifier()\n",
    "bc.fit(x_train, y_train)\n",
    "bc.predict(x_test.iloc[[0]], 0.1)"
   ]
  },
  {
   "cell_type": "code",
   "execution_count": 328,
   "metadata": {},
   "outputs": [
    {
     "name": "stdout",
     "output_type": "stream",
     "text": [
      "accuracy_score: 0.9666666666666667\n"
     ]
    }
   ],
   "source": [
    "from sklearn.metrics import accuracy_score\n",
    "\n",
    "y_pred = [bc.predict(x_test.iloc[[i]],  0.1) for i in range(y_test.size)]\n",
    "print('accuracy_score:', accuracy_score(y_test, y_pred))"
   ]
  },
  {
   "cell_type": "markdown",
   "metadata": {},
   "source": [
    "(My accuracy score is about 0.95)\n",
    "\n",
    "### Conclusion:\n",
    "Yay! It works and the accuracy is pretty decent! The cool thing is that is is not able to overfit! It can also be solved using feedforward nn but we there is no need for using them since that you know what Naive Bayes is.\n",
    "\n",
    "**What we found out today:**\n",
    "- Bayes theorem. How to update the probabilities of hypotheses when given evidence.\n",
    "- Z-scores. How to find the probability of occurrence of some element in the dataset"
   ]
  },
  {
   "cell_type": "code",
   "execution_count": null,
   "metadata": {},
   "outputs": [],
   "source": []
  }
 ],
 "metadata": {
  "kernelspec": {
   "display_name": "Python 3",
   "language": "python",
   "name": "python3"
  },
  "language_info": {
   "codemirror_mode": {
    "name": "ipython",
    "version": 3
   },
   "file_extension": ".py",
   "mimetype": "text/x-python",
   "name": "python",
   "nbconvert_exporter": "python",
   "pygments_lexer": "ipython3",
   "version": "3.6.5"
  }
 },
 "nbformat": 4,
 "nbformat_minor": 2
}
