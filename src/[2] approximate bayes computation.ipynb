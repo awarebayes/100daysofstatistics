{
 "cells": [
  {
   "cell_type": "markdown",
   "metadata": {},
   "source": [
    "# Approximate Bayes Computation\n",
    "Thanks: [this video](https://www.youtube.com/watch?v=3OJEae7Qb_o). I am trying to briefly explain the content of it. If you do not get my explanation, you need to watch it. But there is no need to if everything among of what I say below is clear.\n",
    "\n",
    "### Introduction\n",
    "Let's say, you did a survey and got some probability. As the video says, you did a salmon survey and found out that 6/16 people subscribed to the weekly salmon shipment. That probability will work out for you just fine if you are a frequentist statistician. Just plague the value into your model and that should do the deal. But we, as the worshippers of Lord Bayes, will not go that way. Let's generate a dataset using this tool for our calculations.\n",
    "\n",
    "But why don't we just use the probability as it is? Because sometimes we need to consider multiple probabilities being possible and how they are going to affect our predictions. 6 / 16 doesn't tell you much. This result can be produced by any probability, let's assume it being equal to 0.1 and it just so happened that 6 / 16 of our clients bought our product. Definitely, you can get more precise probability by asking more and more possible clients but it is not always the case. What you might want instead is to have multiple `probabilities of customer's choice` and see how many of this probabilities are giving the result you got in the survey.\n",
    "\n",
    "- There is a small chance that  customer's choice is very low and your company will become insolvent\n",
    "- There also is a small chance that you the idea of salmon shipment is brilliant and worth trillion dollars of income\n",
    "\n",
    "But, what you might really be interested in are small variations in the customer's choice probability and how they are going to affect your incomes. This will be ideal for comparisons between advertising with different cost and survey probabilities:\n",
    "\n",
    "- Salmon brochure costs 2$ and the signup rate is 6/16\n",
    "\n",
    "- Salmon brochure + a salmon sample costs 27$ and the signup rate is 10/16\n",
    "\n",
    "Which advertisement politics should your company choose?\n",
    "\n",
    "![It is going to be a normal distro](../res/normal_distribution.png)\n",
    "\n",
    "### Simple example\n",
    "Let's say you have the `probability of customer's choice` being randomly picked and equal to 0.32. The survey probability is the same (equal to 6/16). And now, let's compel our virtual customer to choose 16 times. If he answered `yes` 6 times and 10 `no`s, we add this probability to some specific array that is storing the probabilities that are producing results close to what the survey probability has produced. And we do so (say) 10000 times. What have we got at the and? We'll have an array of probabilities that produced our survey result.\n",
    "\n",
    "Fun fact: this array will be a normal distribution with the **maximum likelihood** (treat it as 'the peak at') `ground truth probability of client's choice` because there will be more probabilities close to it. (I know, it is not so clear as for now)\n",
    "\n",
    "### How it works\n",
    "First, we need to know what Approximate Bayes Computation consists of:\n",
    "- Data\n",
    "- A generative model\n",
    "- Priors\n",
    "\n",
    "We already have the data (being the probability we calculated, in our case)\n",
    "\n",
    "**Generative model** is going to create our new probabilities 'dataset' based on the **prior** probability we feed it. Virtual customer deciding whether to subscribe.\n",
    "\n",
    "**Priors** is the thing that is going to tell our model how to generate our data.\n",
    "The array of random probabilities (`probability of customer's choice`) we are to feeding our model.\n",
    "\n",
    "**Posteriors** is the new 'dataset' of probabilities we generated.\n",
    "\n",
    "Let's define our priors. We want the chances to be truly random so we are going to use a uniform distribution that is going provide us with a set of some random values we will feed to our model. In other words, we are going to consider all probabilities equally likely to be chosen."
   ]
  },
  {
   "cell_type": "code",
   "execution_count": 1,
   "metadata": {},
   "outputs": [],
   "source": [
    "import pandas as pd\n",
    "import numpy as np\n",
    "%matplotlib inline"
   ]
  },
  {
   "cell_type": "code",
   "execution_count": 2,
   "metadata": {},
   "outputs": [
    {
     "data": {
      "text/plain": [
       "<matplotlib.axes._subplots.AxesSubplot at 0x7f756f5ab978>"
      ]
     },
     "execution_count": 2,
     "metadata": {},
     "output_type": "execute_result"
    },
    {
     "data": {
      "image/png": "[encoded data removed]",
      "text/plain": [
       "<Figure size 432x288 with 1 Axes>"
      ]
     },
     "metadata": {},
     "output_type": "display_data"
    }
   ],
   "source": [
    "n_draws = 100000\n",
    "\n",
    "prior = pd.Series(np.random.uniform(0, 1, size=n_draws))\n",
    "prior.hist()"
   ]
  },
  {
   "cell_type": "markdown",
   "metadata": {},
   "source": [
    "**np.random.binomial** is our virtual virtual customer. It returns the value of `yes` chosen.\n",
    "\n",
    "16 is the value it chooses from, p is the **prior** probability "
   ]
  },
  {
   "cell_type": "code",
   "execution_count": 3,
   "metadata": {},
   "outputs": [],
   "source": [
    "def generative_model(p):\n",
    "    return np.random.binomial(16, p)"
   ]
  },
  {
   "cell_type": "markdown",
   "metadata": {},
   "source": [
    "Now lets make our customer guess 100000 times with equal chances to choose any probability"
   ]
  },
  {
   "cell_type": "code",
   "execution_count": 4,
   "metadata": {},
   "outputs": [],
   "source": [
    "sim_data = [generative_model(p) for p in prior]"
   ]
  },
  {
   "cell_type": "markdown",
   "metadata": {},
   "source": [
    "We need to select only those probabilities from posterior that generated us 6 (the value we got in the survey, out of 16 customer choices)"
   ]
  },
  {
   "cell_type": "code",
   "execution_count": 5,
   "metadata": {},
   "outputs": [],
   "source": [
    "posterior = prior[list(map(lambda x: x == 6, sim_data))]"
   ]
  },
  {
   "cell_type": "markdown",
   "metadata": {},
   "source": [
    "Let's see how it looks like:"
   ]
  },
  {
   "cell_type": "code",
   "execution_count": 6,
   "metadata": {},
   "outputs": [
    {
     "data": {
      "text/plain": [
       "<matplotlib.axes._subplots.AxesSubplot at 0x7f756b9d66d8>"
      ]
     },
     "execution_count": 6,
     "metadata": {},
     "output_type": "execute_result"
    },
    {
     "data": {
      "image/png": "[encoded data removed]",
      "text/plain": [
       "<Figure size 432x288 with 1 Axes>"
      ]
     },
     "metadata": {},
     "output_type": "display_data"
    }
   ],
   "source": [
    "posterior.hist()"
   ]
  },
  {
   "cell_type": "markdown",
   "metadata": {},
   "source": [
    "Nice normal distribution, as I said. And the 'pinnacle' is roughly the ground truth `customer's choice probability`"
   ]
  },
  {
   "cell_type": "markdown",
   "metadata": {},
   "source": [
    "### Comparing the probabilities\n",
    "\n",
    "Now that we calculated our client's probability distribution, and were about to go home, we stumbled upon our CEO. And the CEO suggested us to calculate probabilities for his new advertising company that involved sending a salmon sample to our possible customers. The results just came and the survey probability of customer choice is 10/16. Let's return to our office and use the code we've already written"
   ]
  },
  {
   "cell_type": "markdown",
   "metadata": {},
   "source": [
    "But we also want to have posterior probability. We already have a graph(hist): n_counts: client probabilities. We want to have probabilities instead of n_counts. You can achieve it using z-scores as i described earlier, but there is a faster method:\n",
    "\n",
    "$${ f_{X\\mid Y=y}(x)={f_{X}(x)L_{X\\mid Y=y}(x) \\over {\\int _{-\\infty }^{\\infty }f_{X}(u)L_{X\\mid Y=y}(u)\\,du}}}$$\n",
    "\n",
    "- $f_{X\\mid Y=y}(x)$ -  is the posterior density of $X$ given the data $Y=y$. This is what we are looking for\n",
    "- $f_{X}(x)$ is the prior density of $X$. We often know what kind of distribution we use as the prior (uniform, in our case), so it can be calculated using the formulas\n",
    "- $L_{X\\mid Y=y}(x)$ is the likelihood function of $x$ given the data $Y=y$. \n",
    "- ${\\displaystyle \\int _{-\\infty }^{\\infty }f_{X}(u)L_{X\\mid Y=y}(u)\\,du}$ is the normalizing constant.\n",
    "\n",
    "And that's hell a lot of to understand. But we have a simpler way to think about it\n",
    "\n",
    "Let's just measure the likelihood using Bernoulli formula\n",
    "\n",
    "${\\displaystyle P_{k,n}=C_{n}^{k}p^{k}q^{n-k}=C_{n}^{k}p^{k}(1-p)^{n-k}}.$"
   ]
  },
  {
   "cell_type": "code",
   "execution_count": 15,
   "metadata": {},
   "outputs": [],
   "source": [
    "# Some boilerplate for our calculations\n",
    "import math\n",
    "from scipy import stats\n",
    "from scipy.special import factorial\n",
    "from matplotlib import pyplot as plt\n",
    "\n",
    "def likelihood(theta, n, x):\n",
    "    return (factorial(n) / (factorial(x) * factorial(n - x))) * (theta ** x) * ((1 - theta) ** (n - x))\n",
    "\n",
    "def pprob(prior, posterior, n_occured, n_events):\n",
    "    return pd.Series(map(lambda theta: likelihood(theta, n_events, n_occured), prior))\n",
    "    \n",
    "def generative_model(n_events, p):\n",
    "    return np.random.binomial(n_events, p)\n",
    "\n",
    "def ABC(n_occured, n_events, n_draws=10000):\n",
    "    prior = pd.Series(sorted(np.random.uniform(0, 1, size=n_draws)))\n",
    "    sim_data = [generative_model(n_events ,p) for p in prior]\n",
    "    posterior = prior[list(map(lambda x: x == n_occured, sim_data))]\n",
    "    posterior_probability = pprob(prior, posterior, n_occured, n_events)\n",
    "    \n",
    "    # let's see what we got\n",
    "    return prior, posterior, posterior_probability"
   ]
  },
  {
   "cell_type": "code",
   "execution_count": 16,
   "metadata": {},
   "outputs": [
    {
     "data": {
      "image/png": "[encoded data removed]",
      "text/plain": [
       "<Figure size 432x288 with 1 Axes>"
      ]
     },
     "metadata": {},
     "output_type": "display_data"
    }
   ],
   "source": [
    "priorA, posteriorA, pprobA = ABC(6, 16)\n",
    "priorB, posteriorB, pprobB = ABC(10, 16)\n",
    "f, ax = plt.subplots(1)\n",
    "ax.plot(priorA, pprobA, 'r', priorB, pprobB, 'b')\n",
    "ax.set_xlabel(\"Prior\")\n",
    "ax.set_ylabel(\"Likelihood\")\n",
    "ax.grid()\n",
    "plt.show()"
   ]
  },
  {
   "cell_type": "markdown",
   "metadata": {},
   "source": [
    "Now let's compare them"
   ]
  },
  {
   "cell_type": "code",
   "execution_count": 18,
   "metadata": {},
   "outputs": [
    {
     "name": "stdout",
     "output_type": "stream",
     "text": [
      "Method a is better in 0.6374820149273815 cases\n"
     ]
    }
   ],
   "source": [
    "dPprob = (pprobA * 1000 - 30) - (pprobB * 1000 - 30)\n",
    "print('Method a is better in', sum(dPprob > 0)/sum(dPprob), 'cases')"
   ]
  },
  {
   "cell_type": "markdown",
   "metadata": {},
   "source": [
    "That's it for Bayesian inference. That technique can be used with basically any ML algorithm including Naive Bayes, Deep Learning, SVM, Gradient Boosting and so on. But there is something wrong with our inference implementation. It is extremely slow because it is processing all the data we have. In the next tutorial, I will introduce some MCMC methods that are able to increase the performance significantly"
   ]
  }
 ],
 "metadata": {
  "kernelspec": {
   "display_name": "Python 3",
   "language": "python",
   "name": "python3"
  },
  "language_info": {
   "codemirror_mode": {
    "name": "ipython",
    "version": 3
   },
   "file_extension": ".py",
   "mimetype": "text/x-python",
   "name": "python",
   "nbconvert_exporter": "python",
   "pygments_lexer": "ipython3",
   "version": "3.6.5"
  }
 },
 "nbformat": 4,
 "nbformat_minor": 2
}
